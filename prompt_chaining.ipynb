{
 "cells": [
  {
   "cell_type": "markdown",
   "metadata": {},
   "source": [
    "## Prompt Chaining\n",
    "Prompt chaining decomposes a task into a sequence of steps, where each LLM call processes the output of the previous one. You can add programmatic checks on any intermediate steps to ensure that the process is still on track.\n",
    "\n",
    "When to use this workflow: This workflow is ideal for situations where the task can be easily and cleanly decomposed into fixed subtasks. The main goal is to trade off latency for higher accuracy, by making each LLM call an easier task."
   ]
  },
  {
   "cell_type": "markdown",
   "metadata": {},
   "source": [
    "![alt text](images/download.png)"
   ]
  },
  {
   "cell_type": "code",
   "execution_count": 1,
   "metadata": {},
   "outputs": [],
   "source": [
    "import os\n",
    "from langchain_groq import ChatGroq\n",
    "from dotenv import load_dotenv\n",
    "load_dotenv()\n",
    "os.environ['GROQ_API_KEY']=os.getenv('GROQ_API_KEY')\n",
    "llm=ChatGroq(model=\"qwen-2.5-32b\")"
   ]
  },
  {
   "cell_type": "code",
   "execution_count": 7,
   "metadata": {},
   "outputs": [],
   "source": [
    "from typing_extensions import TypedDict\n",
    "from langgraph.graph import StateGraph,START,END\n",
    "from IPython.display import Image,display\n",
    "\n",
    "class State(TypedDict):\n",
    "    topic: str\n",
    "    joke: str\n",
    "    improved_joke: str\n",
    "    final_joke: str\n"
   ]
  },
  {
   "cell_type": "code",
   "execution_count": 8,
   "metadata": {},
   "outputs": [],
   "source": [
    "def generate(state:State):\n",
    "    msg=llm.invoke(f\"Write a short joke about {state['topic']}\")\n",
    "    return {'joke':msg.content}\n",
    "\n",
    "def improve(state:State):\n",
    "    msg=llm.invoke(f\"create a better joke using wordplay on the topic:{state['topic']}\")\n",
    "    return {'improved_joke':msg.content}\n",
    "\n",
    "def polish(state:State):\n",
    "    msg=llm.invoke(f\"add a twist to this joke: {state['improved_joke']}\")\n",
    "    return {'final_joke':msg.content}\n",
    "\n",
    "def gate_function(state:State):\n",
    "    if \"!\" in state['joke'] or \"?\" in state['joke']:\n",
    "        return \"Fail\"\n",
    "    else:\n",
    "        return \"Pass\"\n",
    "    "
   ]
  },
  {
   "cell_type": "code",
   "execution_count": 9,
   "metadata": {},
   "outputs": [
    {
     "data": {
      "image/png": "[encoded data removed]",
      "text/plain": [
       "<IPython.core.display.Image object>"
      ]
     },
     "metadata": {},
     "output_type": "display_data"
    }
   ],
   "source": [
    "workflow=StateGraph(State)\n",
    "workflow.add_node(\"GenerateJoke\",generate)\n",
    "workflow.add_node(\"ImproveJoke\",improve)\n",
    "workflow.add_node(\"PolishJoke\",polish)\n",
    "workflow.add_edge(START,\"GenerateJoke\")\n",
    "workflow.add_edge(\"ImproveJoke\",\"PolishJoke\")\n",
    "workflow.add_edge(\"PolishJoke\",END)\n",
    "workflow.add_conditional_edges(\"GenerateJoke\",gate_function,{\"Pass\":END,\"Fail\":\"ImproveJoke\"})\n",
    "chain = workflow.compile()\n",
    "display(Image(chain.get_graph().draw_mermaid_png()))"
   ]
  },
  {
   "cell_type": "code",
   "execution_count": 10,
   "metadata": {},
   "outputs": [],
   "source": [
    "state = chain.invoke({\"topic\": \"Engineers\"})"
   ]
  },
  {
   "cell_type": "code",
   "execution_count": 13,
   "metadata": {},
   "outputs": [
    {
     "name": "stdout",
     "output_type": "stream",
     "text": [
      "Joke: Why did the engineer break up with the physicist?\n",
      "\n",
      "Because he could never find the constants in their relationship! \n",
      "Improved Joke: Why did the engineer refuse to go on a boat ride?\n",
      "\n",
      "Because he didn't want to risk the mechanical issues that come with being \"under the engine.\" \n",
      "Final Joke: Why did the engineer refuse to go on a boat ride?\n",
      "\n",
      "Because he didn't want to risk the mechanical issues that come with being \"under the engine.\" Especially not when it could turn him into a \"floating support,\" keeping the boat afloat by holding down the very problems he was trying to avoid!\n"
     ]
    }
   ],
   "source": [
    "print(\"Joke:\",state['joke'],\"\\nImproved Joke:\",state['improved_joke'],\"\\nFinal Joke:\",state['final_joke'])"
   ]
  },
  {
   "cell_type": "code",
   "execution_count": null,
   "metadata": {},
   "outputs": [],
   "source": []
  }
 ],
 "metadata": {
  "kernelspec": {
   "display_name": "Python 3",
   "language": "python",
   "name": "python3"
  },
  "language_info": {
   "codemirror_mode": {
    "name": "ipython",
    "version": 3
   },
   "file_extension": ".py",
   "mimetype": "text/x-python",
   "name": "python",
   "nbconvert_exporter": "python",
   "pygments_lexer": "ipython3",
   "version": "3.11.0"
  }
 },
 "nbformat": 4,
 "nbformat_minor": 2
}
