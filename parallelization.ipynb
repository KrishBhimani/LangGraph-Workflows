{
 "cells": [
  {
   "cell_type": "markdown",
   "metadata": {},
   "source": [
    "### Parallelization¶\n",
    "With parallelization, LLMs work simultaneously on a task:\n",
    "\n",
    "LLMs can sometimes work simultaneously on a task and have their outputs aggregated programmatically. This workflow, parallelization, manifests in two key variations: Sectioning: Breaking a task into independent subtasks run in parallel. Voting: Running the same task multiple times to get diverse outputs.\n",
    "\n",
    "When to use this workflow: Parallelization is effective when the divided subtasks can be parallelized for speed, or when multiple perspectives or attempts are needed for higher confidence results. For complex tasks with multiple considerations, LLMs generally perform better when each consideration is handled by a separate LLM call, allowing focused attention on each specific aspect."
   ]
  },
  {
   "cell_type": "markdown",
   "metadata": {},
   "source": [
    "![alt text](images/2.png)"
   ]
  },
  {
   "cell_type": "code",
   "execution_count": 1,
   "metadata": {},
   "outputs": [],
   "source": [
    "import os\n",
    "from langchain_groq import ChatGroq\n",
    "from dotenv import load_dotenv\n",
    "load_dotenv()\n",
    "os.environ['GROQ_API_KEY']=os.getenv('GROQ_API_KEY')\n",
    "llm=ChatGroq(model=\"qwen-2.5-32b\")"
   ]
  },
  {
   "cell_type": "code",
   "execution_count": 11,
   "metadata": {},
   "outputs": [
    {
     "data": {
      "image/png": "[encoded data removed]",
      "text/plain": [
       "<IPython.core.display.Image object>"
      ]
     },
     "metadata": {},
     "output_type": "display_data"
    }
   ],
   "source": [
    "from typing_extensions import TypedDict\n",
    "from langgraph.graph import StateGraph,START,END\n",
    "from IPython.display import Image,display\n",
    "\n",
    "class State(TypedDict):\n",
    "    topic: str\n",
    "    title: str\n",
    "    contestant1: str\n",
    "    contestant2: str\n",
    "    combined:str\n",
    "\n",
    "def llmcall1(state:State):\n",
    "    msg=llm.invoke(f\"create a title for a debate on the topic:{state['topic']}\")\n",
    "    return {'title':msg.content}\n",
    "\n",
    "def llmcall2(state:State):\n",
    "    msg=llm.invoke(f\"create 300 words to speak for the topic:{state['topic']}\")\n",
    "    return {'contestant1':msg.content}\n",
    "\n",
    "def llmcall3(state:State):\n",
    "    msg=llm.invoke(f\"create 300 words to speak against the topic:{state['topic']}\")\n",
    "    return {'contestant2':msg.content}\n",
    "\n",
    "def aggregator(state:State):\n",
    "    msg=f\"Title for the debate is:\\n{state['title']}\\n\\n\"\n",
    "    msg+=f\"Contestant1: \\n {state['contestant1']}\\n\\n\"\n",
    "    msg+=f\"Contestant2: \\n {state['contestant2']}\\n\\n\"\n",
    "    return {'combined':msg}\n",
    "\n",
    "parallel_builder = StateGraph(State)\n",
    "\n",
    "parallel_builder.add_node(\"call_llm_1\", llmcall1)\n",
    "parallel_builder.add_node(\"call_llm_2\", llmcall2)\n",
    "parallel_builder.add_node(\"call_llm_3\", llmcall3)\n",
    "parallel_builder.add_node(\"aggregator\", aggregator)\n",
    "\n",
    "parallel_builder.add_edge(START, \"call_llm_1\")\n",
    "parallel_builder.add_edge(START, \"call_llm_2\")\n",
    "parallel_builder.add_edge(START, \"call_llm_3\")\n",
    "parallel_builder.add_edge(\"call_llm_1\", \"aggregator\")\n",
    "parallel_builder.add_edge(\"call_llm_2\", \"aggregator\")\n",
    "parallel_builder.add_edge(\"call_llm_3\", \"aggregator\")\n",
    "parallel_builder.add_edge(\"aggregator\", END)\n",
    "parallel_workflow = parallel_builder.compile()\n",
    "\n",
    "display(Image(parallel_workflow.get_graph().draw_mermaid_png()))"
   ]
  },
  {
   "cell_type": "code",
   "execution_count": 12,
   "metadata": {},
   "outputs": [],
   "source": [
    "response=parallel_workflow.invoke({'topic':\"Democracy made India Stronger\"})"
   ]
  },
  {
   "cell_type": "code",
   "execution_count": 13,
   "metadata": {},
   "outputs": [
    {
     "data": {
      "text/plain": [
       "'\"Strength in Numbers: Debating the Impact of Democracy on India\\'s Rise\"'"
      ]
     },
     "execution_count": 13,
     "metadata": {},
     "output_type": "execute_result"
    }
   ],
   "source": [
    "response['title']"
   ]
  },
  {
   "cell_type": "code",
   "execution_count": 18,
   "metadata": {},
   "outputs": [
    {
     "name": "stdout",
     "output_type": "stream",
     "text": [
      "Title for the debate is:\n",
      "\"Strength in Numbers: Debating the Impact of Democracy on India's Rise\"\n",
      "\n",
      "Contestant1: \n",
      " Democracy has been a cornerstone of India's national identity since its independence in 1947. The democratic framework, underpinned by the Constitution, has made India stronger in numerous ways, fostering a robust society and a resilient economy.\n",
      "\n",
      "Firstly, democracy has enabled a pluralistic society where diverse voices are heard and represented. India's vast tapestry of cultures, languages, and religions finds expression through democratic institutions, ensuring that no single group dominates. This inclusivity has been a source of strength, allowing for the peaceful coexistence of various communities. It has also facilitated a dynamic civil society, where citizens can organize, advocate, and influence policies that affect their lives.\n",
      "\n",
      "Economically, democracy has spurred development by encouraging entrepreneurship and innovation. The presence of a free press and relatively free markets has fostered an environment where ideas can flourish. While challenges remain, the democratic process has allowed for the gradual lifting of regulatory burdens, supporting the growth of small and large businesses alike. Moreover, the democratic system has enabled a degree of accountability that ensures that economic policies work towards the common good, rather than the interests of a select few.\n",
      "\n",
      "Politically, democracy has made India stronger by allowing for peaceful transitions of power. This has been crucial in maintaining stability, particularly in a country with a complex social and political landscape. The ability to replace leaders through the ballot box, without resorting to violence, is a testament to the strength of India's democratic institutions. It also underscores the importance of the rule of law, which is central to upholding democratic principles.\n",
      "\n",
      "In conclusion, democracy has made India stronger by promoting inclusivity, fostering economic growth, and ensuring political stability. It is through the continued strengthening of democratic institutions and practices that India can hope to address its challenges and fulfill its potential as a global leader.\n",
      "\n",
      "Contestant2: \n",
      " The claim that democracy has made India stronger is a contentious one, rooted more in idealistic conceptions than in a nuanced understanding of the nation's complex reality. While it is true that India has managed to maintain a democratic system since its independence, the strength or weakness of a nation cannot solely be attributed to its political system.\n",
      "\n",
      "Firstly, the effectiveness of democracy in India has been marred by several issues, including corruption, bureaucratic inefficiencies, and a lack of accountability. The Indian political landscape is often characterized by political fragmentation, with numerous regional parties and coalitions. This fragmentation can lead to unstable governments that struggle to formulate and implement consistent, long-term policies. Furthermore, the complexity of the electoral process and the influence of money and muscle power can undermine the principles of a fair and just democratic process.\n",
      "\n",
      "Additionally, while democracy does provide a platform for diverse voices and opinions, it can also lead to minority disadvantage. The sheer diversity of India — in terms of language, religion, and ethnicity — poses a significant challenge for the democratic process. Ensuring that the rights and interests of all groups are represented and protected is a monumental task. In many instances, the majority's voice has overshadowed the needs of minority communities, leading to social tensions and conflicts.\n",
      "\n",
      "Economically, while India has made strides in certain sectors, poverty and inequality remain significant challenges. The GDP growth rates, often cited as a marker of India's economic strength, do not reflect the reality of the majority of its population. Many still struggle with basic necessities such as food, healthcare, and education. This raises questions about whether the benefits of democracy have trickled down to the common man or if they are merely concentrated within a select few.\n",
      "\n",
      "Lastly, the robustness of a nation's democracy is also gauged by its ability to promote social justice and protect human rights. Unfortunately, India has faced criticism for failing to adequately address issues such as caste discrimination, gender inequality, and communal violence. These issues highlight a gap between democratic ideals and their practical application, suggesting that the strength of a democracy is not only about who gets to vote, but also about the quality of governance and the realization of fundamental human rights.\n",
      "\n",
      "In conclusion, while democracy is a crucial component of any healthy society, attributing India's strength solely to its democratic system oversimplifies the multifaceted challenges and complexities that the nation faces. A more holistic evaluation of India's development must consider the effectiveness of its governance, social equality, and economic inclusivity, among other factors.\n",
      "\n",
      "\n"
     ]
    }
   ],
   "source": [
    "print(response['combined'])"
   ]
  },
  {
   "cell_type": "code",
   "execution_count": null,
   "metadata": {},
   "outputs": [],
   "source": []
  }
 ],
 "metadata": {
  "kernelspec": {
   "display_name": "Python 3",
   "language": "python",
   "name": "python3"
  },
  "language_info": {
   "codemirror_mode": {
    "name": "ipython",
    "version": 3
   },
   "file_extension": ".py",
   "mimetype": "text/x-python",
   "name": "python",
   "nbconvert_exporter": "python",
   "pygments_lexer": "ipython3",
   "version": "3.11.0"
  }
 },
 "nbformat": 4,
 "nbformat_minor": 2
}
