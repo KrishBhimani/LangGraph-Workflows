{
 "cells": [
  {
   "cell_type": "code",
   "execution_count": 1,
   "metadata": {},
   "outputs": [],
   "source": [
    "import os\n",
    "from langchain_groq import ChatGroq\n",
    "from dotenv import load_dotenv\n",
    "load_dotenv()\n",
    "os.environ['GROQ_API_KEY']=os.getenv('GROQ_API_KEY')\n",
    "llm=ChatGroq(model=\"qwen-2.5-32b\")"
   ]
  },
  {
   "cell_type": "code",
   "execution_count": 21,
   "metadata": {},
   "outputs": [
    {
     "data": {
      "image/png": "[encoded data removed]",
      "text/plain": [
       "<IPython.core.display.Image object>"
      ]
     },
     "metadata": {},
     "output_type": "display_data"
    }
   ],
   "source": [
    "from typing_extensions import Literal,TypedDict\n",
    "from pydantic import BaseModel, Field\n",
    "from langchain_core.messages import HumanMessage, SystemMessage\n",
    "from langgraph.graph import StateGraph,START,END\n",
    "from IPython.display import Image,display\n",
    "\n",
    "class Route(BaseModel):\n",
    "    step:Literal[\"support team\",\"technical team\",\"marketing team\"]=Field(\n",
    "        None,description=\"The next step of Routing process\"\n",
    "    )\n",
    "\n",
    "router=llm.with_structured_output(Route)\n",
    "\n",
    "class State(TypedDict):\n",
    "    input:str\n",
    "    decision:str\n",
    "    output:str\n",
    "\n",
    "def support(state:State):\n",
    "    \"\"\"print that mail body will go to support team\"\"\"\n",
    "    # result = llm.invoke(state[\"input\"])\n",
    "    return {\"output\": \"Its sent to Support Team\"}\n",
    "\n",
    "def tech(state:State):\n",
    "    \"\"\"print that mail body will go to tech team\"\"\"\n",
    "    # result = llm.invoke(state[\"input\"])\n",
    "    return {\"output\": \"Its sent to Technical Team\"}\n",
    "\n",
    "def marketing(state:State):\n",
    "    \"\"\"print that mail body will go to marketing team\"\"\"\n",
    "    # result = llm.invoke(state[\"input\"])\n",
    "    return {\"output\": \"Its sent to Marketing Team\"}\n",
    "\n",
    "def llm_call_router(state:State):\n",
    "    dec=router.invoke([\n",
    "        SystemMessage(content=\n",
    "                        \"You are an AI assistant responsible for routing emails to the correct team. \"\n",
    "                        \"Analyze the email content and determine whether it should be sent to the Support Team, Technical Team, or Marketing Team. \"\n",
    "                        \"Use the following criteria:\\n\\n\"\n",
    "                        \"- **Support Team**: Handles customer service inquiries, order issues, and general support requests.\\n\"\n",
    "                        \"- **Technical Team**: Resolves technical problems such as system errors, login issues, and software bugs.\\n\"\n",
    "                        \"- **Marketing Team**: Manages promotional campaigns, collaborations, and brand partnerships.\\n\\n\"),\n",
    "        HumanMessage(content=state['input'])\n",
    "    ])\n",
    "    return {'decision':dec.step}\n",
    "\n",
    "def router_decision(state:State):\n",
    "    if state['decision']==\"support team\":\n",
    "        return \"support\"\n",
    "    elif state['decision']==\"technical team\":\n",
    "        return \"tech\"\n",
    "    elif state['decision']==\"marketing team\":\n",
    "        return \"marketing\"\n",
    "\n",
    "\n",
    "builder=StateGraph(State)\n",
    "\n",
    "builder.add_node(\"Support_Team\",support)\n",
    "builder.add_node(\"Tech_Team\",tech)\n",
    "builder.add_node(\"Marketing_Team\",marketing)\n",
    "builder.add_node(\"llm_call_router\",llm_call_router)\n",
    "\n",
    "builder.add_edge(START, \"llm_call_router\")\n",
    "builder.add_conditional_edges(\n",
    "    \"llm_call_router\",\n",
    "    router_decision,\n",
    "    {\n",
    "        \"tech\":\"Tech_Team\",\n",
    "        \"support\":\"Support_Team\",\n",
    "        \"marketing\":\"Marketing_Team\"\n",
    "    }\n",
    ")\n",
    "builder.add_edge(\"Support_Team\",END)\n",
    "builder.add_edge(\"Tech_Team\",END)\n",
    "builder.add_edge(\"Marketing_Team\",END)\n",
    "\n",
    "router_workflow=builder.compile()\n",
    "display(Image(router_workflow.get_graph().draw_mermaid_png()))"
   ]
  },
  {
   "cell_type": "code",
   "execution_count": 16,
   "metadata": {},
   "outputs": [
    {
     "data": {
      "text/plain": [
       "'Its sent to Technical Team'"
      ]
     },
     "execution_count": 16,
     "metadata": {},
     "output_type": "execute_result"
    }
   ],
   "source": [
    "response=router_workflow.invoke({\"input\":\"\"\"I am facing an issue with logging into my account on our company portal. Every time I enter my credentials, I receive an \"Invalid Credentials\" error, even though I am sure my details are correct. I also tried resetting my password, but the reset link isn’t working.\n",
    "\n",
    "Could you please look into this issue and help me regain access?\"\"\"})\n",
    "response['output']"
   ]
  },
  {
   "cell_type": "code",
   "execution_count": 17,
   "metadata": {},
   "outputs": [
    {
     "data": {
      "text/plain": [
       "'Its sent to Marketing Team'"
      ]
     },
     "execution_count": 17,
     "metadata": {},
     "output_type": "execute_result"
    }
   ],
   "source": [
    "response=router_workflow.invoke({\"input\":\"\"\"I am reaching out to explore potential collaboration opportunities between our brands. We believe a partnership could be mutually beneficial, especially given our shared audience.\n",
    "\n",
    "Could we schedule a meeting to discuss how we can work together? Looking forward to your thoughts.\"\"\"})\n",
    "response['output']"
   ]
  },
  {
   "cell_type": "code",
   "execution_count": 18,
   "metadata": {},
   "outputs": [
    {
     "data": {
      "text/plain": [
       "'Its sent to Support Team'"
      ]
     },
     "execution_count": 18,
     "metadata": {},
     "output_type": "execute_result"
    }
   ],
   "source": [
    "response=router_workflow.invoke({\"input\":\"\"\"I recently placed an order (#12345) on your website, but I haven't received any updates regarding the shipping status. The estimated delivery date has passed, and the tracking link isn't showing any details.\n",
    "\n",
    "Could you please check the status and provide an update?\"\"\"})\n",
    "response['output']"
   ]
  },
  {
   "cell_type": "code",
   "execution_count": null,
   "metadata": {},
   "outputs": [],
   "source": []
  }
 ],
 "metadata": {
  "kernelspec": {
   "display_name": "Python 3",
   "language": "python",
   "name": "python3"
  },
  "language_info": {
   "codemirror_mode": {
    "name": "ipython",
    "version": 3
   },
   "file_extension": ".py",
   "mimetype": "text/x-python",
   "name": "python",
   "nbconvert_exporter": "python",
   "pygments_lexer": "ipython3",
   "version": "3.11.0"
  }
 },
 "nbformat": 4,
 "nbformat_minor": 2
}
